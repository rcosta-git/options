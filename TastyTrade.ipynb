{
 "cells": [
  {
   "cell_type": "code",
   "execution_count": 1,
   "id": "a2903579-c92a-43e3-9129-77e4742dac11",
   "metadata": {},
   "outputs": [],
   "source": [
    "from tastytrade import Session\n",
    "from tastytrade import Account\n",
    "from tastytrade import DXLinkStreamer\n",
    "from tastytrade.dxfeed import Quote\n",
    "import asyncio\n",
    "import credentials\n",
    "\n",
    "# You will need to add a credentials.py, following credentials_template.py\n",
    "session = Session(credentials.tastytrade[\"username\"], credentials.tastytrade[\"password\"])"
   ]
  },
  {
   "cell_type": "code",
   "execution_count": 2,
   "id": "f930e35d-10aa-4dc3-af82-2e1d80ed6d08",
   "metadata": {},
   "outputs": [
    {
     "name": "stdout",
     "output_type": "stream",
     "text": [
      "account_number='5WY68323' symbol='./ESH5 E4CF5 250122P6110' instrument_type=<InstrumentType.FUTURE_OPTION: 'Future Option'> underlying_symbol='/ESH5' quantity=Decimal('15') quantity_direction='Long' close_price=Decimal('0.0') average_open_price=Decimal('10.57666667') multiplier=50 cost_effect='Credit' is_suppressed=False is_frozen=False realized_day_gain=Decimal('0.0') realized_today=Decimal('0.0') created_at=datetime.datetime(2025, 1, 22, 11, 51, 19, 968000, tzinfo=TzInfo(UTC)) updated_at=datetime.datetime(2025, 1, 22, 12, 55, 44, 888000, tzinfo=TzInfo(UTC)) mark=None mark_price=None restricted_quantity=Decimal('0') expires_at=datetime.datetime(2025, 1, 22, 21, 0, tzinfo=TzInfo(UTC)) fixing_price=None deliverable_type=None average_yearly_market_close_price=Decimal('10.576666667') average_daily_market_close_price=Decimal('10.576666667') realized_day_gain_date=datetime.date(2025, 1, 22) realized_today_date=datetime.date(2025, 1, 22)\n"
     ]
    }
   ],
   "source": [
    "account = Account.get_accounts(session)[0]\n",
    "positions = account.get_positions(session)\n",
    "print(positions[0])"
   ]
  },
  {
   "cell_type": "code",
   "execution_count": 3,
   "id": "c4a98238-e061-42f2-95dd-3150903641ae",
   "metadata": {},
   "outputs": [
    {
     "name": "stdout",
     "output_type": "stream",
     "text": [
      "event_symbol='SPY' event_time=0 sequence=0 time_nano_part=0 bid_time=0 bid_exchange_code='Q' ask_time=0 ask_exchange_code='Q' bid_price=Decimal('607.03') ask_price=Decimal('607.04') bid_size=Decimal('100.0') ask_size=Decimal('1012.0')\n"
     ]
    }
   ],
   "source": [
    "async with DXLinkStreamer(session) as streamer:\n",
    "    subs_list = ['SPY']  # list of symbols to subscribe to, see list https://dxfeed.com/market-data/futures/cme/\n",
    "    await streamer.subscribe(Quote, subs_list)\n",
    "    # this example fetches quotes once, then exits\n",
    "    quote = await streamer.get_event(Quote)\n",
    "    print(quote)"
   ]
  },
  {
   "cell_type": "code",
   "execution_count": 5,
   "id": "cf8445d6-192b-4404-b230-541ee0c23c16",
   "metadata": {},
   "outputs": [
    {
     "name": "stdout",
     "output_type": "stream",
     "text": [
      "Waiting for data for SPY...\n",
      "SPY: event_symbol='SPY' event_time=0 sequence=0 time_nano_part=0 bid_time=0 bid_exchange_code='Q' ask_time=0 ask_exchange_code='Q' bid_price=Decimal('607.03') ask_price=Decimal('607.05') bid_size=Decimal('500.0') ask_size=Decimal('355.0')\n",
      "Waiting for data for /ES:XCME...\n",
      "/ES:XCME: event_symbol='/ES:XCME' event_time=0 sequence=0 time_nano_part=0 bid_time=0 bid_exchange_code='G' ask_time=0 ask_exchange_code='G' bid_price=Decimal('6127.25') ask_price=Decimal('6127.5') bid_size=Decimal('108.0') ask_size=Decimal('35.0')\n"
     ]
    }
   ],
   "source": [
    "async def main():\n",
    "    # Set up the DXLinkStreamer\n",
    "    async with DXLinkStreamer(session) as streamer:\n",
    "        # Symbols to subscribe\n",
    "        subs_list = ['SPY', '/ES:XCME']  # Test with SPY and ES\n",
    "        await streamer.subscribe(Quote, subs_list)\n",
    "\n",
    "        # Get and print a quote\n",
    "        for symbol in subs_list:\n",
    "            try:\n",
    "                print(f\"Waiting for data for {symbol}...\")\n",
    "                quote = await streamer.get_event(Quote)\n",
    "                print(f\"{symbol}: {quote}\")\n",
    "            except Exception as e:\n",
    "                print(f\"Error with {symbol}: {e}\")\n",
    "\n",
    "# In Jupyter, use `await` instead of `asyncio.run`\n",
    "await main()"
   ]
  },
  {
   "cell_type": "code",
   "execution_count": 7,
   "id": "afebeb40-bc35-4758-810a-511e0aff4905",
   "metadata": {},
   "outputs": [
    {
     "data": {
      "text/plain": [
       "CurrentPosition(account_number='5WY68323', symbol='./ESH5 E4CF5 250122P6110', instrument_type=<InstrumentType.FUTURE_OPTION: 'Future Option'>, underlying_symbol='/ESH5', quantity=Decimal('15'), quantity_direction='Long', close_price=Decimal('0.0'), average_open_price=Decimal('10.57666667'), multiplier=50, cost_effect='Credit', is_suppressed=False, is_frozen=False, realized_day_gain=Decimal('0.0'), realized_today=Decimal('0.0'), created_at=datetime.datetime(2025, 1, 22, 11, 51, 19, 968000, tzinfo=TzInfo(UTC)), updated_at=datetime.datetime(2025, 1, 22, 12, 55, 44, 888000, tzinfo=TzInfo(UTC)), mark=None, mark_price=None, restricted_quantity=Decimal('0'), expires_at=datetime.datetime(2025, 1, 22, 21, 0, tzinfo=TzInfo(UTC)), fixing_price=None, deliverable_type=None, average_yearly_market_close_price=Decimal('10.576666667'), average_daily_market_close_price=Decimal('10.576666667'), realized_day_gain_date=datetime.date(2025, 1, 22), realized_today_date=datetime.date(2025, 1, 22))"
      ]
     },
     "execution_count": 7,
     "metadata": {},
     "output_type": "execute_result"
    }
   ],
   "source": [
    "positions[0]"
   ]
  },
  {
   "cell_type": "code",
   "execution_count": null,
   "id": "8634e50c-93ca-4118-bf3b-9e63bde03b32",
   "metadata": {},
   "outputs": [],
   "source": []
  }
 ],
 "metadata": {
  "kernelspec": {
   "display_name": "Python 3 (ipykernel)",
   "language": "python",
   "name": "python3"
  },
  "language_info": {
   "codemirror_mode": {
    "name": "ipython",
    "version": 3
   },
   "file_extension": ".py",
   "mimetype": "text/x-python",
   "name": "python",
   "nbconvert_exporter": "python",
   "pygments_lexer": "ipython3",
   "version": "3.10.12"
  }
 },
 "nbformat": 4,
 "nbformat_minor": 5
}
